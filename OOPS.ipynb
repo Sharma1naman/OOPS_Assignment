{
  "nbformat": 4,
  "nbformat_minor": 0,
  "metadata": {
    "colab": {
      "provenance": []
    },
    "kernelspec": {
      "name": "python3",
      "display_name": "Python 3"
    },
    "language_info": {
      "name": "python"
    }
  },
  "cells": [
    {
      "cell_type": "markdown",
      "source": [
        "#OOPS"
      ],
      "metadata": {
        "id": "vaFI8PSX33NV"
      }
    },
    {
      "cell_type": "markdown",
      "source": [
        "##Theoretical Questions"
      ],
      "metadata": {
        "id": "8kiuAUvk39K0"
      }
    },
    {
      "cell_type": "markdown",
      "source": [
        "**Question 1.** What is Object-Oriented Programming (OOP)?\n",
        "  - Object-Oriented Programming (OOP) is a programming paradigm centered around the concept of \"objects,\" which are instances of \"classes.\" A class serves as a blueprint that defines the structure and behavior (data and methods) that the objects created from it will have. OOP is designed to make code more modular, reusable, and easier to manage by modeling real-world entities as objects. The key principles of OOP include encapsulation, abstraction, inheritance, and polymorphism.\n",
        "\n",
        "  "
      ],
      "metadata": {
        "id": "rZRaOzJp34lG"
      }
    },
    {
      "cell_type": "code",
      "source": [
        "#Example\n",
        "class Dog:\n",
        "  def __init__(self, name, breed):\n",
        "    self.name = name\n",
        "    self.breed = breed\n",
        "\n",
        "  def bark(self):\n",
        "    return f\"{self.name} says woof!\"\n",
        "\n",
        "# Creating an object (instance) of the class\n",
        "dog1 = Dog(\"Buddy\", \"Golden Retriever\")\n",
        "print(dog1.bark())"
      ],
      "metadata": {
        "colab": {
          "base_uri": "https://localhost:8080/"
        },
        "id": "UCWNZQqW4-av",
        "outputId": "a11c4e2b-e826-4b44-d7e5-7e8487604835"
      },
      "execution_count": 1,
      "outputs": [
        {
          "output_type": "stream",
          "name": "stdout",
          "text": [
            "Buddy says woof!\n"
          ]
        }
      ]
    },
    {
      "cell_type": "markdown",
      "source": [
        "**Question 2.** What is a class in OOP?\n",
        "  - In Object-Oriented Programming (OOP), a **class** is a blueprint or template for creating objects. It defines the structure and behavior that the objects created from it will have. Specifically, a class contains **attributes** (also known as properties or fields) that hold data, and **methods**(functions defined inside the class) that define the behavior of the objects.\n",
        "\n",
        "  A class itself doesn't hold any data—it only describes how data should be structured and what operations can be performed. When a class is instantiated (i.e., used to create an object), the object gets its own copy of the attributes defined in the class."
      ],
      "metadata": {
        "id": "dpmRYs0G6HqH"
      }
    },
    {
      "cell_type": "code",
      "source": [
        "#Example\n",
        "class Car:\n",
        "  def __init__(self, brand, model):\n",
        "    self.brand = brand\n",
        "    self.model = model\n",
        "\n",
        "  def full_name(self):\n",
        "    return f\"{self.brand} {self.model}\"\n",
        "\n",
        "my_car = Car(\"Toyota\", \"Camry\")\n",
        "print(my_car.full_name())"
      ],
      "metadata": {
        "colab": {
          "base_uri": "https://localhost:8080/"
        },
        "id": "t5rdEIqu5I8Z",
        "outputId": "a650c037-eada-4986-863a-54a89495e4cc"
      },
      "execution_count": 2,
      "outputs": [
        {
          "output_type": "stream",
          "name": "stdout",
          "text": [
            "Toyota Camry\n"
          ]
        }
      ]
    },
    {
      "cell_type": "markdown",
      "source": [
        "**Question 3.** What is an object in OOP?\n",
        "  - In Object-Oriented Programming (OOP), an object is a concrete instance of a class, which is a blueprint or template. The object contains data (attributes) and behaviors (methods) that define what it knows and what it can do. Each object can have its own unique values for its attributes, but it shares the structure and behavior defined by its class. For example, if Car is a class, then car1 and car2 can be two different objects with their own colors, models, and speeds. Objects are the central concept in OOP because they model real-world entities and interactions in a program.\n",
        "  "
      ],
      "metadata": {
        "id": "10_oK_kDleJg"
      }
    },
    {
      "cell_type": "code",
      "source": [
        "# Example\n",
        "\n",
        "class Car:\n",
        "  def __init__(self, brand, color):\n",
        "    self.brand = brand\n",
        "    self.color = color\n",
        "\n",
        "  def drive(self):\n",
        "    print(f\"The {self.color} {self.brand} is driving.\")\n",
        "\n",
        "# Create objects\n",
        "car1 = Car(\"Toyota\", \"Red\")\n",
        "car2 = Car(\"Honda\", \"Blue\")\n",
        "\n",
        "# Call methods on objects\n",
        "car1.drive()\n",
        "car2.drive()"
      ],
      "metadata": {
        "colab": {
          "base_uri": "https://localhost:8080/"
        },
        "id": "2xY3O6gel51l",
        "outputId": "b8d9673a-56e1-42e4-a3e0-930e40ed9bd1"
      },
      "execution_count": 3,
      "outputs": [
        {
          "output_type": "stream",
          "name": "stdout",
          "text": [
            "The Red Toyota is driving.\n",
            "The Blue Honda is driving.\n"
          ]
        }
      ]
    },
    {
      "cell_type": "markdown",
      "source": [
        "**Question 4.** What is the difference between abstraction and encapsulation?\n",
        " - **Abstraction** and **encapsulation** are two fundamental concepts in Object-Oriented Programming, and while they are closely related, they serve different purposes.\n",
        "\n",
        "  **Abstraction** is the concept of hiding the complex implementation details of a system and exposing only the necessary parts to the user. It allows programmers to focus on what an object does rather than how it does it. For example, when you use a method like .sort() on a list in Python, you don't need to know the internal algorithm that sorts the elements—you only care that the list will be sorted. Abstraction simplifies the interface of objects and promotes cleaner, more readable code.\n",
        "\n",
        "  **Encapsulation**, on the other hand, is about bundling the data (attributes) and the methods that operate on that data into a single unit—typically a class—and restricting direct access to some of the object’s internal components. This is often done using access modifiers like private or protected variables. The goal of encapsulation is to protect an object's state from unintended or harmful changes and to enforce a controlled way of interacting with its data.\n",
        "\n",
        "  In short, **abstraction focuses on hiding complexity**, while **encapsulation focuses on hiding the internal state and enforcing access control**. Together, they contribute to more secure, modular, and maintainable code."
      ],
      "metadata": {
        "id": "0pQiPy0D9sVy"
      }
    },
    {
      "cell_type": "code",
      "source": [
        "#Abstraction Example\n",
        "from abc import ABC, abstractmethod\n",
        "\n",
        "class Vehicle(ABC):\n",
        "  @abstractmethod\n",
        "  def start_engine(self):\n",
        "    pass\n",
        "\n",
        "class Car(Vehicle):\n",
        "  def start_engine(self):\n",
        "    return \"Engine started with a key\"\n",
        "\n",
        "class ElectricCar(Vehicle):\n",
        "  def start_engine(self):\n",
        "    return \"Engine started silently with a button\"\n",
        "\n",
        "\n",
        "# Creating objects of concrete classes\n",
        "car = Car()\n",
        "e_car = ElectricCar()\n",
        "\n",
        "# Calling the abstract method implemented in child classes\n",
        "print(car.start_engine())\n",
        "print(e_car.start_engine())"
      ],
      "metadata": {
        "colab": {
          "base_uri": "https://localhost:8080/"
        },
        "id": "2UNk_Th37Y4g",
        "outputId": "1cf306d3-20dc-4107-981a-bde51b35aa69"
      },
      "execution_count": 4,
      "outputs": [
        {
          "output_type": "stream",
          "name": "stdout",
          "text": [
            "Engine started with a key\n",
            "Engine started silently with a button\n"
          ]
        }
      ]
    },
    {
      "cell_type": "code",
      "source": [
        "#Encapsulation Example\n",
        "class BankAccount:\n",
        "  def __init__(self, owner, balance):\n",
        "    self.owner = owner\n",
        "    self.__balance = balance  # private attribute\n",
        "\n",
        "  def deposit(self, amount):\n",
        "    if amount > 0:\n",
        "      self.__balance += amount\n",
        "\n",
        "  def withdraw(self, amount):\n",
        "    if 0 < amount <= self.__balance:\n",
        "      self.__balance -= amount\n",
        "\n",
        "  def get_balance(self):\n",
        "    return self.__balance\n",
        "\n",
        "# Create object\n",
        "account = BankAccount(\"Alice\", 1000)\n",
        "\n",
        "# Call methods\n",
        "account.deposit(500)          # Add 500\n",
        "account.withdraw(200)         # Subtract 200\n",
        "print(account.get_balance())"
      ],
      "metadata": {
        "colab": {
          "base_uri": "https://localhost:8080/"
        },
        "id": "EtZ64kT1AS5s",
        "outputId": "6c251b9d-72e7-4cca-e194-8b24635c7992"
      },
      "execution_count": 5,
      "outputs": [
        {
          "output_type": "stream",
          "name": "stdout",
          "text": [
            "1300\n"
          ]
        }
      ]
    },
    {
      "cell_type": "markdown",
      "source": [
        "**Question 5.** What are dunder methods in Python?\n",
        "  - Dunder methods (short for “double underscore methods”) in Python are special methods with names that begin and end with double underscores, like\n",
        "           __init__, __str__, or __add__.\n",
        "  They're also called magic methods and allow developers to define or customize the behavior of objects for built-in operations."
      ],
      "metadata": {
        "id": "d17dBRhxCgT6"
      }
    },
    {
      "cell_type": "code",
      "source": [
        "#Example\n",
        "\n",
        "class Book:\n",
        "  def __init__(self, pages):\n",
        "    self.pages = pages\n",
        "\n",
        "  def __str__(self):\n",
        "    return f\"Total pages: {self.pages}\"\n",
        "\n",
        "  def __add__(self, other):\n",
        "    return Book(self.pages + other.pages)\n",
        "\n",
        "b1 = Book(100)\n",
        "b2 = Book(200)\n",
        "b3 = b1 + b2\n",
        "\n",
        "print(b3)"
      ],
      "metadata": {
        "colab": {
          "base_uri": "https://localhost:8080/"
        },
        "id": "vw2OD5KECYy0",
        "outputId": "844a0968-fc01-4b07-ccd5-50587033cecf"
      },
      "execution_count": 6,
      "outputs": [
        {
          "output_type": "stream",
          "name": "stdout",
          "text": [
            "Total pages: 300\n"
          ]
        }
      ]
    },
    {
      "cell_type": "markdown",
      "source": [
        "**Question 6.** Explain the concept of inheritance in OOP.\n",
        "  - Inheritance in Object-Oriented Programming (OOP) is a fundamental concept that allows one class (called the **child** or **subclass**) to inherit attributes and methods from another class (called the **parent** or **superclass**). This promotes **code reusability** and **hierarchical classification**. Instead of writing duplicate code, a subclass can reuse and extend the functionality of its parent class. Python supports various types of inheritance, such as single, multiple, multilevel, and hierarchical inheritance.\n",
        "\n"
      ],
      "metadata": {
        "id": "5ba7HJW8HOm7"
      }
    },
    {
      "cell_type": "code",
      "source": [
        "#Example\n",
        "\n",
        "class Animal:\n",
        "  def speak(self):\n",
        "    return \"Some sound\"\n",
        "\n",
        "class Dog(Animal):\n",
        "  def speak(self):\n",
        "    return \"Bark\"\n",
        "\n",
        "d = Dog()\n",
        "print(d.speak())"
      ],
      "metadata": {
        "colab": {
          "base_uri": "https://localhost:8080/"
        },
        "id": "mfqJxnzKG8l7",
        "outputId": "d321ccb3-e8ba-42c3-e6ab-d4959c67c46e"
      },
      "execution_count": 7,
      "outputs": [
        {
          "output_type": "stream",
          "name": "stdout",
          "text": [
            "Bark\n"
          ]
        }
      ]
    },
    {
      "cell_type": "markdown",
      "source": [
        "**Question 7.** What is polymorphism in OOP?\n",
        "  - Polymorphism in Object-Oriented Programming (OOP) is the ability of different classes to respond to the same method call in different ways. It literally means \"many forms.\" In Python, polymorphism allows functions, methods, or operators to operate on objects of different types as long as they implement a specific method or behavior. This makes code more flexible and extensible, allowing a single interface to work with different types of objects.\n",
        "\n"
      ],
      "metadata": {
        "id": "sv_RGQQkH-rz"
      }
    },
    {
      "cell_type": "code",
      "source": [
        "#Example\n",
        "\n",
        "class Dog:\n",
        "  def speak(self):\n",
        "    return \"Bark\"\n",
        "\n",
        "class Cat:\n",
        "  def speak(self):\n",
        "    return \"Meow\"\n",
        "\n",
        "animals = [Dog(), Cat()]\n",
        "\n",
        "for animal in animals:\n",
        "    print(animal.speak())"
      ],
      "metadata": {
        "colab": {
          "base_uri": "https://localhost:8080/"
        },
        "id": "AVQXnuQEH7N7",
        "outputId": "f9860899-80d2-4a9e-f80d-9d81e1edbabe"
      },
      "execution_count": 8,
      "outputs": [
        {
          "output_type": "stream",
          "name": "stdout",
          "text": [
            "Bark\n",
            "Meow\n"
          ]
        }
      ]
    },
    {
      "cell_type": "markdown",
      "source": [
        "**Question 8.** How is encapsulation achieved in Python?\n",
        "  - **Encapsulation** in Python is achieved by bundling data (attributes) and methods (functions) that operate on that data into a single unit—typically a class—and by restricting direct access to some of the object’s components. This helps protect the internal state of an object from unintended interference and misuse, promoting a clean interface and modular code design.\n",
        "\n",
        "  In Python, encapsulation is implemented using **access modifiers**:\n",
        "\n",
        "    - **Public members** (no underscore): accessible from anywhere.\n",
        "\n",
        "    - **Protected members** (single underscore _): intended to be used within the class and its subclasses (not enforced, just a convention).\n",
        "\n",
        "    - **Private members** (double underscore __): name-mangled to prevent access from outside the class directly.\n",
        "\n"
      ],
      "metadata": {
        "id": "7ijGtqaSIepY"
      }
    },
    {
      "cell_type": "code",
      "source": [
        "#Example\n",
        "\n",
        "class Person:\n",
        "  def __init__(self, name, age):\n",
        "    self.name = name          # Public\n",
        "    self._age = age           # Protected\n",
        "    self.__salary = 50000     # Private\n",
        "\n",
        "  def show_info(self):\n",
        "    return f\"Name: {self.name}, Age: {self._age}\"\n",
        "\n",
        "  def get_salary(self):\n",
        "    return self.__salary\n",
        "\n",
        "p = Person(\"Alice\", 30)\n",
        "print(p.get_salary())"
      ],
      "metadata": {
        "colab": {
          "base_uri": "https://localhost:8080/"
        },
        "id": "EI3gg_4BIYFa",
        "outputId": "d0fd4738-cc76-434f-9f25-f481e431f600"
      },
      "execution_count": 9,
      "outputs": [
        {
          "output_type": "stream",
          "name": "stdout",
          "text": [
            "50000\n"
          ]
        }
      ]
    },
    {
      "cell_type": "markdown",
      "source": [
        "**Question 9.** What is a constructor in Python?\n",
        "  - A constructor in Python is a special method used to initialize objects when a class is instantiated. In Python, the constructor method is named\n",
        "        __init__().\n",
        "   It is automatically called when a new object of a class is created, and it allows you to set initial values for the object’s attributes.\n",
        "\n"
      ],
      "metadata": {
        "id": "Q2K2xep3KtJg"
      }
    },
    {
      "cell_type": "code",
      "source": [
        "# Example\n",
        "class Person:\n",
        "  def __init__(self, name, age):\n",
        "    self.name = name\n",
        "    self.age = age\n",
        "\n",
        "p1 = Person(\"John\", 25)\n",
        "print(p1.name)\n",
        "print(p1.age)"
      ],
      "metadata": {
        "colab": {
          "base_uri": "https://localhost:8080/"
        },
        "id": "vKjAieb0KhK_",
        "outputId": "9c87ee71-bed9-4e02-bd69-1925d4844c16"
      },
      "execution_count": 10,
      "outputs": [
        {
          "output_type": "stream",
          "name": "stdout",
          "text": [
            "John\n",
            "25\n"
          ]
        }
      ]
    },
    {
      "cell_type": "markdown",
      "source": [
        "**Question 10.** What are class and static methods in Python?\n",
        "  - Class and static methods in Python are special methods that provide different ways to define behavior in a class that isn’t strictly tied to instances. A class method is defined using the @classmethod decorator and takes cls as its first parameter, giving it access to class-level data. This allows it to modify class variables and is often used for factory methods or configuration changes that should apply to all instances. On the other hand, a static method, defined with the @staticmethod decorator, takes no special first parameter (neither self nor cls) and behaves like a regular function but is logically grouped within the class’s namespace. Static methods don’t access or modify the state of the class or any instance—they’re typically used as utility functions that are related to the class's purpose.\n"
      ],
      "metadata": {
        "id": "Rdamtp55L7s3"
      }
    },
    {
      "cell_type": "code",
      "source": [
        "# Example\n",
        "class Student:\n",
        "  school_name = \"Greenwood High\"\n",
        "\n",
        "  def __init__(self, name):\n",
        "    self.name = name\n",
        "\n",
        "  @classmethod\n",
        "  def change_school(cls, new_name):\n",
        "    cls.school_name = new_name\n",
        "\n",
        "  @staticmethod\n",
        "  def greet():\n",
        "    print(\"Welcome to the school!\")\n",
        "\n",
        "\n",
        "# Create instances\n",
        "s1 = Student(\"Alice\")\n",
        "s2 = Student(\"Bob\")\n",
        "\n",
        "# Access shared class attribute\n",
        "print(s1.school_name)\n",
        "\n",
        "# Change school name using class method\n",
        "Student.change_school(\"Blue Valley School\")\n",
        "\n",
        "# Check updated school name\n",
        "print(s1.school_name)\n",
        "print(s2.school_name)\n",
        "\n",
        "# Call static method\n",
        "Student.greet()"
      ],
      "metadata": {
        "colab": {
          "base_uri": "https://localhost:8080/"
        },
        "id": "ZEwlareSL2aY",
        "outputId": "ce97778c-02ba-4bfc-c2a6-33814240a3dc"
      },
      "execution_count": 11,
      "outputs": [
        {
          "output_type": "stream",
          "name": "stdout",
          "text": [
            "Greenwood High\n",
            "Blue Valley School\n",
            "Blue Valley School\n",
            "Welcome to the school!\n"
          ]
        }
      ]
    },
    {
      "cell_type": "markdown",
      "source": [
        "**Question 11.** What is method overloading in Python?\n",
        "  - Method overloading in general refers to the ability to define multiple methods with the same name but different numbers or types of parameters. While many programming languages like Java or C++ support true method overloading, Python does not support it in the traditional sense. In Python, if you define a method with the same name multiple times in a class, the last definition will overwrite the previous ones.\n",
        "\n",
        "  However, Python achieves a similar effect using default arguments,     \n",
        "         *args, or **kwargs\n",
        "   to allow a single method to accept a variable number of arguments."
      ],
      "metadata": {
        "id": "IVo78Pf2R7I1"
      }
    },
    {
      "cell_type": "code",
      "source": [
        "# Example\n",
        "class Calculator:\n",
        "  def add(self, a=None, b=None, c=None):\n",
        "    if a is not None and b is not None and c is not None:\n",
        "      return a + b + c\n",
        "    elif a is not None and b is not None:\n",
        "      return a + b\n",
        "    elif a is not None:\n",
        "      return a\n",
        "    else:\n",
        "      return 0\n",
        "\n",
        "calc = Calculator()\n",
        "print(calc.add(2, 3))\n",
        "print(calc.add(1, 2, 3))\n",
        "print(calc.add(10))\n",
        "print(calc.add())"
      ],
      "metadata": {
        "colab": {
          "base_uri": "https://localhost:8080/"
        },
        "id": "3NX_UZfQRa9z",
        "outputId": "ced84913-ed73-4b83-a593-0f70c0ae4823"
      },
      "execution_count": 12,
      "outputs": [
        {
          "output_type": "stream",
          "name": "stdout",
          "text": [
            "5\n",
            "6\n",
            "10\n",
            "0\n"
          ]
        }
      ]
    },
    {
      "cell_type": "markdown",
      "source": [
        "**Question 12.** What is method overriding in OOP?\n",
        "  - **Method overriding** in Object-Oriented Programming (OOP) is the process where a subclass provides a specific implementation of a method that is already defined in its parent class. This allows the child class to **customize or replace** the behavior inherited from the parent. In Python, method overriding is done by simply defining a method in the subclass with the **same name** and **signature** as the one in the parent class.\n",
        "\n"
      ],
      "metadata": {
        "id": "k3aRsfJeTjpr"
      }
    },
    {
      "cell_type": "code",
      "source": [
        "# Example\n",
        "class Animal:\n",
        "  def speak(self):\n",
        "    return \"Some generic sound\"\n",
        "\n",
        "class Dog(Animal):\n",
        "  def speak(self):\n",
        "    return \"Bark\"\n",
        "\n",
        "a = Animal()\n",
        "d = Dog()\n",
        "\n",
        "print(a.speak())\n",
        "print(d.speak())"
      ],
      "metadata": {
        "colab": {
          "base_uri": "https://localhost:8080/"
        },
        "id": "RrO0TOVTS4Mf",
        "outputId": "c39ec91b-c1a7-40fb-f26e-6d2a491e86d1"
      },
      "execution_count": 13,
      "outputs": [
        {
          "output_type": "stream",
          "name": "stdout",
          "text": [
            "Some generic sound\n",
            "Bark\n"
          ]
        }
      ]
    },
    {
      "cell_type": "markdown",
      "source": [
        "**Question 13.** What is a property decorator in Python?\n",
        "  - A **property decorator** in Python is a built-in feature used to define **getter, setter**, and **deleter** methods for managing access to a class attribute in a clean and controlled way. It allows you to use **methods like attributes**, enabling **encapsulation** without changing the class interface.\n",
        "\n",
        "  The most common decorators used are:\n",
        "    - @property – defines a method as a **getter**.\n",
        "\n",
        "    - @property.setter – defines a method as a **setter** for that property.\n",
        "\n",
        "    - @property.deleter – defines a method to **delete** the property."
      ],
      "metadata": {
        "id": "W0vMaw_SVP2i"
      }
    },
    {
      "cell_type": "code",
      "source": [
        "# Example\n",
        "\n",
        "class Student:\n",
        "  def __init__(self, name):\n",
        "    self._name = name\n",
        "\n",
        "  @property\n",
        "  def name(self):\n",
        "    return self._name\n",
        "\n",
        "  @name.setter\n",
        "  def name(self, new_name):\n",
        "    if isinstance(new_name, str) and new_name.strip():\n",
        "      self._name = new_name\n",
        "    else:\n",
        "      raise ValueError(\"Invalid name\")\n",
        "\n",
        "  @name.deleter\n",
        "  def name(self):\n",
        "    del self._name\n",
        "\n",
        "s = Student(\"Alice\")\n",
        "print(s.name)\n",
        "\n",
        "s.name = \"Bob\"\n",
        "print(s.name)\n",
        "\n",
        "del s.name"
      ],
      "metadata": {
        "colab": {
          "base_uri": "https://localhost:8080/"
        },
        "id": "LDmy2S1cUDt2",
        "outputId": "4a72284c-a07b-44e6-a69a-4b35392d4e14"
      },
      "execution_count": 14,
      "outputs": [
        {
          "output_type": "stream",
          "name": "stdout",
          "text": [
            "Alice\n",
            "Bob\n"
          ]
        }
      ]
    },
    {
      "cell_type": "markdown",
      "source": [
        "**Question 14.** Why is polymorphism important in OOP?\n",
        "  - **Polymorphism** is important in Object-Oriented Programming (OOP) because it allows objects of different classes to be treated as objects of a common superclass, enabling a single interface to operate on various underlying forms (data types). This leads to **flexible, extensible, and maintainable code**, as functions and methods can work with different types of objects as long as they implement the expected behavior.\n",
        "\n",
        "   **Key Benefits of Polymorphism:**\n",
        "    - **Code Reusability:** You can write general-purpose functions or methods that work with different types of objects, reducing code duplication.\n",
        "\n",
        "    - **Extensibility:** You can add new classes that implement existing interfaces without changing existing code.\n",
        "\n",
        "    - **Readability & Maintainability:** It simplifies code logic by allowing consistent method calls without needing type checks or special cases."
      ],
      "metadata": {
        "id": "WGwistzxXQby"
      }
    },
    {
      "cell_type": "code",
      "source": [
        "# Example\n",
        "class Dog:\n",
        "  def speak(self):\n",
        "    return \"Bark\"\n",
        "\n",
        "class Cat:\n",
        "  def speak(self):\n",
        "    return \"Meow\"\n",
        "\n",
        "animals = [Dog(), Cat()]\n",
        "\n",
        "for animal in animals:\n",
        "    print(animal.speak())"
      ],
      "metadata": {
        "colab": {
          "base_uri": "https://localhost:8080/"
        },
        "id": "y0mjmLwsWTic",
        "outputId": "48876cea-3182-4c40-daba-96be96dc0aab"
      },
      "execution_count": 15,
      "outputs": [
        {
          "output_type": "stream",
          "name": "stdout",
          "text": [
            "Bark\n",
            "Meow\n"
          ]
        }
      ]
    },
    {
      "cell_type": "markdown",
      "source": [
        "**Question 15.**  What is an abstract class in Python?\n",
        "  - An **abstract class** in Python is a class that cannot be instantiated on its own and is meant to be inherited by other classes. It serves as a **blueprint** for subclasses by defining methods that must be implemented in any concrete (non-abstract) subclass. Abstract classes are used to enforce **method structure** and support **polymorphism**.\n",
        "\n",
        "  Python provides the ABC (Abstract Base Class) module from the abc library to define abstract classes. You use the @abstractmethod decorator to specify methods that must be overridden in child classes."
      ],
      "metadata": {
        "id": "KBEtqgUOX_Og"
      }
    },
    {
      "cell_type": "code",
      "source": [
        "# Example\n",
        "from abc import ABC, abstractmethod\n",
        "\n",
        "class Animal(ABC):\n",
        "  @abstractmethod\n",
        "  def make_sound(self):\n",
        "    pass\n",
        "\n",
        "class Dog(Animal):\n",
        "  def make_sound(self):\n",
        "    return \"Bark\"\n",
        "\n",
        "class Cat(Animal):\n",
        "  def make_sound(self):\n",
        "    return \"Meow\"\n",
        "\n",
        "\n",
        "\n",
        "# You cannot do this:\n",
        "# a = Animal()  # Raises TypeError\n",
        "\n",
        "# But you can create instances of subclasses:\n",
        "dog = Dog()\n",
        "cat = Cat()\n",
        "\n",
        "print(dog.make_sound())\n",
        "print(cat.make_sound())"
      ],
      "metadata": {
        "colab": {
          "base_uri": "https://localhost:8080/"
        },
        "id": "Erdgo5G6X67b",
        "outputId": "c6bad6fb-d729-4b2f-b079-e9a9969752df"
      },
      "execution_count": 16,
      "outputs": [
        {
          "output_type": "stream",
          "name": "stdout",
          "text": [
            "Bark\n",
            "Meow\n"
          ]
        }
      ]
    },
    {
      "cell_type": "markdown",
      "source": [
        "**Question 16.** What are the advantages of OOP?\n",
        "  - **Object-Oriented Programming (OOP)** offers several key advantages that make it a widely used programming paradigm, especially for building complex and scalable software systems. The main benefits include:\n",
        "\n",
        "    1. Modularity:\n",
        "OOP breaks down a program into smaller, self-contained objects (classes), making it modular. Each class encapsulates data and behavior, which makes the code easier to understand, develop, test, and maintain.\n",
        "\n",
        "    2. Reusability:\n",
        "Through inheritance, you can create new classes from existing ones, reusing code without rewriting it. This promotes efficiency and consistency across a codebase.\n",
        "\n",
        "    3. Encapsulation:\n",
        "OOP hides internal object details and exposes only necessary interfaces, protecting the internal state and reducing complexity. This leads to better data security and abstraction.\n",
        "\n",
        "    4. Polymorphism:\n",
        "With polymorphism, different objects can respond to the same function call in their own way. This makes code more flexible and extensible, allowing you to write generic code that works with a variety of object types.\n",
        "\n",
        "    5. Maintainability and Scalability:\n",
        "By organizing code into logical objects and classes, OOP makes it easier to manage and scale projects. Changes in one part of the system can be made with minimal impact on others.\n",
        "\n",
        "   6. Real-World Modeling:\n",
        "OOP mirrors real-world entities and their interactions, making it intuitive to model and understand complex systems like users, orders, or transactions.\n",
        "\n"
      ],
      "metadata": {
        "id": "Q4utmwYfY_Ir"
      }
    },
    {
      "cell_type": "markdown",
      "source": [
        "**Question 17.** What is the difference between a class variable and an instance variable?\n",
        "  - A class variable is a variable that is shared among all instances of a class. It is defined inside the class body but outside any instance methods, making it accessible to all objects created from that class. Changes made to a class variable through the class name affect all instances unless they specifically override it. In contrast, an instance variable is defined inside methods, usually within the\n",
        "        __init__\n",
        "   constructor, using the self keyword. These variables are unique to each object, meaning that changes to one instance’s variables do not affect others. Class variables are typically used for constants or data shared across all objects, while instance variables are used to store information unique to each object.\n"
      ],
      "metadata": {
        "id": "yu848QAhfOQU"
      }
    },
    {
      "cell_type": "code",
      "source": [
        "class Car:\n",
        "  wheels = 4  # Class variable (common to all cars)\n",
        "\n",
        "  def __init__(self, color):\n",
        "    self.color = color  # Instance variable (unique to each car)\n",
        "\n",
        "# Create two car objects\n",
        "car1 = Car(\"Red\")\n",
        "car2 = Car(\"Blue\")\n",
        "\n",
        "# Accessing variables\n",
        "print(car1.color)\n",
        "print(car2.color)\n",
        "print(car1.wheels)\n",
        "print(car2.wheels)\n",
        "\n",
        "# Changing class variable using class name\n",
        "Car.wheels = 6\n",
        "print(car1.wheels)\n",
        "print(car2.wheels)\n",
        "\n",
        "# Changing instance variable only for car1\n",
        "car1.color = \"Green\"\n",
        "print(car1.color)\n",
        "print(car2.color)\n"
      ],
      "metadata": {
        "colab": {
          "base_uri": "https://localhost:8080/"
        },
        "id": "QoRX4GIGaijP",
        "outputId": "b5d4095c-dd0c-41a0-a8a1-7b103791ccac"
      },
      "execution_count": 17,
      "outputs": [
        {
          "output_type": "stream",
          "name": "stdout",
          "text": [
            "Red\n",
            "Blue\n",
            "4\n",
            "4\n",
            "6\n",
            "6\n",
            "Green\n",
            "Blue\n"
          ]
        }
      ]
    },
    {
      "cell_type": "markdown",
      "source": [
        "**Question 18.** What is multiple inheritance in Python?\n",
        "  - **Multiple inheritance** in Python is an object-oriented programming feature where a class can inherit attributes and methods from **more than one parent** class. This allows a child class to combine and use functionalities from multiple sources, promoting code reusability and flexibility.\n",
        "\n",
        "  For example, if you have one class that handles employee data and another that manages salary details, you can create a new class that inherits from both to access functionalities from each. While powerful, multiple inheritance must be used carefully because it can lead to complexities, such as **method name conflicts**. Python handles these using the **Method Resolution Order (MRO**), which defines the sequence in which base classes are searched when executing a method.  "
      ],
      "metadata": {
        "id": "E3VE9y81gh9L"
      }
    },
    {
      "cell_type": "code",
      "source": [
        "# Example\n",
        "\n",
        "class Father:\n",
        "  def show_father_traits(self):\n",
        "    print(\"Father: Intelligent and hardworking.\")\n",
        "\n",
        "class Mother:\n",
        "  def show_mother_traits(self):\n",
        "    print(\"Mother: Creative and kind.\")\n",
        "\n",
        "class Child(Father, Mother):\n",
        "  def show_child_traits(self):\n",
        "    print(\"Child: Inherits from both parents.\")\n",
        "\n",
        "# Create an instance of Child\n",
        "c = Child()\n",
        "\n",
        "# Call methods from both parent classes\n",
        "c.show_father_traits()   # Inherited from Father\n",
        "c.show_mother_traits()   # Inherited from Mother\n",
        "c.show_child_traits()    # Defined in Child\n"
      ],
      "metadata": {
        "colab": {
          "base_uri": "https://localhost:8080/"
        },
        "id": "oejxDWR0gCpz",
        "outputId": "4c7cd9d9-0e49-43a4-da56-44ca069e67d4"
      },
      "execution_count": 18,
      "outputs": [
        {
          "output_type": "stream",
          "name": "stdout",
          "text": [
            "Father: Intelligent and hardworking.\n",
            "Mother: Creative and kind.\n",
            "Child: Inherits from both parents.\n"
          ]
        }
      ]
    },
    {
      "cell_type": "markdown",
      "source": [
        "**Question 19.**  Explain the purpose of\n",
        "                                   \n",
        "    \"__str__\" and \"__repr__\"\n",
        "\n",
        " methods in Python?\n",
        "\n",
        "  - In Python,\n",
        "        __str__ and __repr__\n",
        "    are special methods used to define how an object should be represented as a string. The str method is meant to return a user-friendly, readable string version of the object. It’s what you see when you use print() on an object. On the other hand, repr is intended for developers and debugging, returning a more detailed and unambiguous string that often includes how to recreate the object. When you type an object directly in the interactive shell or call repr(), Python uses the repr method.\n",
        "    \n",
        "\n",
        "              "
      ],
      "metadata": {
        "id": "3JoGg_MBktlf"
      }
    },
    {
      "cell_type": "code",
      "source": [
        "# Example\n",
        "class Book:\n",
        "  def __init__(self, title, author):\n",
        "    self.title = title\n",
        "    self.author = author\n",
        "\n",
        "  def __str__(self):\n",
        "    return f\"{self.title} by {self.author}\"  # User-friendly format\n",
        "\n",
        "  def __repr__(self):\n",
        "    return f\"Book(title='{self.title}', author='{self.author}')\"  # Developer format\n",
        "\n",
        "# Create an object\n",
        "b = Book(\"1984\", \"George Orwell\")\n",
        "\n",
        "# Output\n",
        "print(str(b))\n",
        "print(repr(b))"
      ],
      "metadata": {
        "colab": {
          "base_uri": "https://localhost:8080/"
        },
        "id": "eXus-6_vhnrQ",
        "outputId": "1ab7ef34-dda7-4c15-bc43-b03b6f48a335"
      },
      "execution_count": 19,
      "outputs": [
        {
          "output_type": "stream",
          "name": "stdout",
          "text": [
            "1984 by George Orwell\n",
            "Book(title='1984', author='George Orwell')\n"
          ]
        }
      ]
    },
    {
      "cell_type": "markdown",
      "source": [
        "**Question 20.** What is the significance of the ‘super()’ function in Python?\n",
        "  - The super() function in Python is used to call methods from a parent (or superclass) in a child (subclass). It is most commonly used in method overriding, especially within the\n",
        "        __init__\n",
        "   constructor, to ensure the parent class’s behavior is preserved while extending or customizing it in the child class. This is especially helpful in inheritance and multiple inheritance scenarios, as super() follows Python’s Method Resolution Order (MRO) to determine which parent class to call next. Using super() promotes clean, maintainable, and reusable code by avoiding hard-coded references to parent class names.\n",
        "\n"
      ],
      "metadata": {
        "id": "V1d_bBcbE2oN"
      }
    },
    {
      "cell_type": "code",
      "source": [
        "# Example\n",
        "class Animal:\n",
        "  def __init__(self, name):\n",
        "    self.name = name\n",
        "    print(f\"Animal created: {self.name}\")\n",
        "\n",
        "class Dog(Animal):\n",
        "  def __init__(self, name, breed):\n",
        "    super().__init__(name)  # Call parent class constructor\n",
        "    self.breed = breed\n",
        "    print(f\"Dog created: {self.name}, Breed: {self.breed}\")\n",
        "\n",
        "# Create an instance\n",
        "d = Dog(\"Buddy\", \"Golden Retriever\")"
      ],
      "metadata": {
        "colab": {
          "base_uri": "https://localhost:8080/"
        },
        "id": "VWCU8BJUEZp6",
        "outputId": "dda16ce5-1ebf-4e7e-8bf7-9069d3e07ce1"
      },
      "execution_count": 20,
      "outputs": [
        {
          "output_type": "stream",
          "name": "stdout",
          "text": [
            "Animal created: Buddy\n",
            "Dog created: Buddy, Breed: Golden Retriever\n"
          ]
        }
      ]
    },
    {
      "cell_type": "markdown",
      "source": [
        "**Question 21.** What is the significance of the\n",
        "                          \n",
        "                          __del__\n",
        "                 \n",
        "method in Python?\n",
        "\n",
        "  - The del method in Python is a special (dunder) method known as the destructor. It is automatically called when an object is about to be destroyed, typically when it goes out of scope or is explicitly deleted using del. The primary purpose of del is to clean up resources—like closing files or network connections—before the object is removed from memory. However, using __del__ is generally discouraged for critical cleanup tasks because Python’s garbage collection is not guaranteed to call it immediately or predictably. Instead, using context managers (with statement) is often preferred for managing resources."
      ],
      "metadata": {
        "id": "6JJ0DIwcfT6J"
      }
    },
    {
      "cell_type": "code",
      "source": [
        "# Example\n",
        "class FileHandler:\n",
        "  def __init__(self, filename):\n",
        "    self.filename = filename\n",
        "    self.file = open(filename, 'w')\n",
        "    print(f\"File '{self.filename}' opened.\")\n",
        "\n",
        "  def write_data(self, data):\n",
        "    self.file.write(data)\n",
        "\n",
        "  def __del__(self):\n",
        "    self.file.close()\n",
        "    print(f\"File '{self.filename}' closed.\")\n",
        "\n",
        "# Usage\n",
        "handler = FileHandler(\"example.txt\")\n",
        "handler.write_data(\"Hello, world!\")\n",
        "\n",
        "# Object goes out of scope here, __del__ is called automatically\n",
        "del handler"
      ],
      "metadata": {
        "colab": {
          "base_uri": "https://localhost:8080/"
        },
        "id": "yhiUWScaKuUq",
        "outputId": "4e6598da-e6cb-41f2-9592-56cf338026a6"
      },
      "execution_count": 21,
      "outputs": [
        {
          "output_type": "stream",
          "name": "stdout",
          "text": [
            "File 'example.txt' opened.\n",
            "File 'example.txt' closed.\n"
          ]
        }
      ]
    },
    {
      "cell_type": "markdown",
      "source": [
        "**Question 22.** What is the difference between @staticmethod and @classmethod in Python?\n",
        "   - In Python, @staticmethod and @classmethod are both decorators used to define methods that aren’t regular instance methods, but they serve different purposes. A @staticmethod is a method that does not take self or cls as the first parameter and behaves like a plain function that just happens to live inside a class. It cannot access or modify class or instance data and is typically used for utility functions. On the other hand, a @classmethod takes cls as the first argument, referring to the class itself (not an instance), and can access or modify class state shared among all instances. This makes @classmethod useful for creating alternative constructors or for methods that need to operate on the class as a whole rather than individual objects.\n",
        "\n"
      ],
      "metadata": {
        "id": "1O52OYVhiE3r"
      }
    },
    {
      "cell_type": "code",
      "source": [
        "# Example\n",
        "\n",
        "class Person:\n",
        "    species = \"Homo sapiens\"  # Class variable\n",
        "\n",
        "    def __init__(self, name):\n",
        "        self.name = name\n",
        "\n",
        "    @staticmethod\n",
        "    def greet():\n",
        "        print(\"Hello! This is a static method.\")\n",
        "\n",
        "    @classmethod\n",
        "    def get_species(cls):\n",
        "        print(f\"Species: {cls.species}\")\n",
        "\n",
        "# Using the methods\n",
        "p = Person(\"Alice\")\n",
        "\n",
        "# Static method doesn't need access to instance or class\n",
        "p.greet()\n",
        "\n",
        "# Class method can access class variables\n",
        "p.get_species()"
      ],
      "metadata": {
        "colab": {
          "base_uri": "https://localhost:8080/"
        },
        "id": "_pg0D7_IhgXs",
        "outputId": "c19e4652-8b29-433b-aff2-28b657cf13ea"
      },
      "execution_count": 22,
      "outputs": [
        {
          "output_type": "stream",
          "name": "stdout",
          "text": [
            "Hello! This is a static method.\n",
            "Species: Homo sapiens\n"
          ]
        }
      ]
    },
    {
      "cell_type": "markdown",
      "source": [
        "**Question 23.**  How does polymorphism work in Python with inheritance?\n",
        "   - Polymorphism in Python allows objects of different classes to be treated as if they were objects of the same class through a shared interface. When combined with inheritance, polymorphism lets a base class define a method, and then lets derived classes override that method with their own version. At runtime, Python will automatically choose the correct method based on the actual type of the object, not the reference type. This enables flexible and reusable code, especially when writing functions or classes that operate on objects from different subclasses without needing to know their specific types.\n",
        "\n"
      ],
      "metadata": {
        "id": "j4aKVHWijNSv"
      }
    },
    {
      "cell_type": "code",
      "source": [
        "# Example\n",
        "class Animal:\n",
        "  def speak(self):\n",
        "    print(\"Animal speaks\")\n",
        "\n",
        "class Dog(Animal):\n",
        "  def speak(self):\n",
        "    print(\"Dog barks\")\n",
        "\n",
        "class Cat(Animal):\n",
        "  def speak(self):\n",
        "    print(\"Cat meows\")\n",
        "\n",
        "# Function that demonstrates polymorphism\n",
        "def make_animal_speak(animal):\n",
        "  animal.speak()\n",
        "\n",
        "# Create objects\n",
        "dog = Dog()\n",
        "cat = Cat()\n",
        "\n",
        "# Call the same method on different objects\n",
        "make_animal_speak(dog)\n",
        "make_animal_speak(cat)"
      ],
      "metadata": {
        "colab": {
          "base_uri": "https://localhost:8080/"
        },
        "id": "R9aIC8TOimXd",
        "outputId": "755ba6a4-4772-487c-b321-b1f9814c5409"
      },
      "execution_count": 23,
      "outputs": [
        {
          "output_type": "stream",
          "name": "stdout",
          "text": [
            "Dog barks\n",
            "Cat meows\n"
          ]
        }
      ]
    },
    {
      "cell_type": "markdown",
      "source": [
        "**Question 24.** What is method chaining in Python OOP?\n",
        "  - Method chaining in Python Object-Oriented Programming (OOP) is a technique that allows you to call multiple methods on the same object in a single line, one after another. This is made possible by designing each method to return self (the current instance of the object). It leads to more concise and readable code, especially when performing a sequence of operations on an object. Method chaining is commonly seen in libraries like Pandas and Django ORM, and it can also be implemented in custom classes to improve usability and flow."
      ],
      "metadata": {
        "id": "__Serle3jw_p"
      }
    },
    {
      "cell_type": "code",
      "source": [
        "# Example\n",
        "\n",
        "class Calculator:\n",
        "  def __init__(self, value=0):\n",
        "    self.value = value\n",
        "\n",
        "  def add(self, num):\n",
        "    self.value += num\n",
        "    return self  # Return self for chaining\n",
        "\n",
        "  def subtract(self, num):\n",
        "    self.value -= num\n",
        "    return self\n",
        "\n",
        "  def multiply(self, num):\n",
        "    self.value *= num\n",
        "    return self\n",
        "\n",
        "  def result(self):\n",
        "    print(f\"Result: {self.value}\")\n",
        "    return self\n",
        "\n",
        "# Using method chaining\n",
        "calc = Calculator()\n",
        "calc.add(10).subtract(3).multiply(5).result()"
      ],
      "metadata": {
        "colab": {
          "base_uri": "https://localhost:8080/"
        },
        "id": "OF6E_L4YjgHa",
        "outputId": "464bc311-7fbe-424a-8aae-ddabc318456c"
      },
      "execution_count": 24,
      "outputs": [
        {
          "output_type": "stream",
          "name": "stdout",
          "text": [
            "Result: 35\n"
          ]
        },
        {
          "output_type": "execute_result",
          "data": {
            "text/plain": [
              "<__main__.Calculator at 0x79486f3d1a90>"
            ]
          },
          "metadata": {},
          "execution_count": 24
        }
      ]
    },
    {
      "cell_type": "markdown",
      "source": [
        "**Question 25.**  What is the purpose of the\n",
        "                    \n",
        "                    __call__\n",
        "method in Python?\n",
        "\n",
        "   - The call method in Python allows an instance of a class to be called like a regular function. By defining call in a class, you enable objects of that class to behave like callable functions, providing a flexible and powerful way to encapsulate behavior. This is especially useful in contexts like function objects, decorators, and customizable callable behaviors. When an object is followed by parentheses—obj()—Python looks for a call method and executes it if found. It helps make your code cleaner and more intuitive by letting objects act like functions when needed."
      ],
      "metadata": {
        "id": "ETQ7_-xzkXWl"
      }
    },
    {
      "cell_type": "code",
      "source": [
        "# Example\n",
        "\n",
        "class Multiplier:\n",
        "  def __init__(self, factor):\n",
        "    self.factor = factor\n",
        "\n",
        "  def __call__(self, number):\n",
        "    return number * self.factor\n",
        "\n",
        "# Create an instance\n",
        "double = Multiplier(2)\n",
        "triple = Multiplier(3)\n",
        "\n",
        "# Call the instance like a function\n",
        "print(double(5))\n",
        "print(triple(4))"
      ],
      "metadata": {
        "colab": {
          "base_uri": "https://localhost:8080/"
        },
        "id": "0uOM-j38kHLs",
        "outputId": "ba704b4c-0638-4fd0-f780-a2e56b7a0780"
      },
      "execution_count": 25,
      "outputs": [
        {
          "output_type": "stream",
          "name": "stdout",
          "text": [
            "10\n",
            "12\n"
          ]
        }
      ]
    },
    {
      "cell_type": "markdown",
      "source": [
        "## Practical Questions"
      ],
      "metadata": {
        "id": "GfBUsrJjmVZJ"
      }
    },
    {
      "cell_type": "markdown",
      "source": [
        "**Question 1.** Create a parent class Animal with a method speak() that prints a generic message. Create a child class Dog that overrides the speak() method to print \"Bark!\".\n"
      ],
      "metadata": {
        "id": "biuM6BOMmbeu"
      }
    },
    {
      "cell_type": "code",
      "source": [
        "# Parent class\n",
        "class Animal:\n",
        "  def speak(self):\n",
        "    print(\"The animal makes a sound.\")\n",
        "\n",
        "# Child class\n",
        "class Dog(Animal):\n",
        "  def speak(self):\n",
        "    print(\"Bark!\")\n",
        "\n",
        "# Create instances\n",
        "generic_animal = Animal()\n",
        "dog = Dog()\n",
        "\n",
        "# Call the methods\n",
        "generic_animal.speak()\n",
        "dog.speak()"
      ],
      "metadata": {
        "colab": {
          "base_uri": "https://localhost:8080/"
        },
        "id": "N_6I4N5fk_qX",
        "outputId": "fe701170-4add-4cf5-ea97-f09300c5aa2d"
      },
      "execution_count": 26,
      "outputs": [
        {
          "output_type": "stream",
          "name": "stdout",
          "text": [
            "The animal makes a sound.\n",
            "Bark!\n"
          ]
        }
      ]
    },
    {
      "cell_type": "markdown",
      "source": [
        "**Question 2.** Write a program to create an abstract class Shape with a method area(). Derive classes Circle and Rectangle from it and implement the area() method in both.\n",
        "\n",
        "\n"
      ],
      "metadata": {
        "id": "aaHBh4kBthTY"
      }
    },
    {
      "cell_type": "code",
      "source": [
        "from abc import ABC, abstractmethod\n",
        "import math\n",
        "\n",
        "# Abstract base class\n",
        "class Shape(ABC):\n",
        "\n",
        "  @abstractmethod\n",
        "  def area(self):\n",
        "    pass\n",
        "\n",
        "# Derived class: Circle\n",
        "class Circle(Shape):\n",
        "  def __init__(self, radius):\n",
        "    self.radius = radius\n",
        "\n",
        "  def area(self):\n",
        "    return math.pi * self.radius ** 2\n",
        "\n",
        "# Derived class: Rectangle\n",
        "class Rectangle(Shape):\n",
        "  def __init__(self, width, height):\n",
        "    self.width = width\n",
        "    self.height = height\n",
        "\n",
        "  def area(self):\n",
        "    return self.width * self.height\n",
        "\n",
        "# Create objects and display areas\n",
        "circle = Circle(5)\n",
        "rectangle = Rectangle(4, 6)\n",
        "\n",
        "print(f\"Circle area: {circle.area():.2f}\")\n",
        "print(f\"Rectangle area: {rectangle.area()}\")"
      ],
      "metadata": {
        "colab": {
          "base_uri": "https://localhost:8080/"
        },
        "id": "aGfY_E7NtTf_",
        "outputId": "6c891bb0-757d-496d-bb30-29b16f5924f1"
      },
      "execution_count": 27,
      "outputs": [
        {
          "output_type": "stream",
          "name": "stdout",
          "text": [
            "Circle area: 78.54\n",
            "Rectangle area: 24\n"
          ]
        }
      ]
    },
    {
      "cell_type": "markdown",
      "source": [
        "**Question 3.**  Implement a multi-level inheritance scenario where a class Vehicle has an attribute type. Derive a class Car and further derive a class ElectricCar that adds a battery attribute.\n",
        "\n",
        "\n"
      ],
      "metadata": {
        "id": "yHn1Uv4xuQK5"
      }
    },
    {
      "cell_type": "code",
      "source": [
        "# Base class\n",
        "class Vehicle:\n",
        "  def __init__(self, vehicle_type):\n",
        "    self.vehicle_type = vehicle_type\n",
        "\n",
        "  def show_type(self):\n",
        "    print(f\"Vehicle Type: {self.vehicle_type}\")\n",
        "\n",
        "# First-level derived class\n",
        "class Car(Vehicle):\n",
        "  def __init__(self, vehicle_type, brand):\n",
        "    super().__init__(vehicle_type)\n",
        "    self.brand = brand\n",
        "\n",
        "  def show_brand(self):\n",
        "    print(f\"Car Brand: {self.brand}\")\n",
        "\n",
        "# Second-level derived class\n",
        "class ElectricCar(Car):\n",
        "  def __init__(self, vehicle_type, brand, battery_capacity):\n",
        "    super().__init__(vehicle_type, brand)\n",
        "    self.battery_capacity = battery_capacity\n",
        "\n",
        "  def show_battery(self):\n",
        "    print(f\"Battery Capacity: {self.battery_capacity} kWh\")\n",
        "\n",
        "# Create an object of ElectricCar\n",
        "my_ecar = ElectricCar(\"Four-wheeler\", \"Tesla\", 75)\n",
        "\n",
        "# Access methods from all levels\n",
        "my_ecar.show_type()\n",
        "my_ecar.show_brand()\n",
        "my_ecar.show_battery()"
      ],
      "metadata": {
        "colab": {
          "base_uri": "https://localhost:8080/"
        },
        "id": "rl1w7DHnuKTE",
        "outputId": "35a2183d-a267-4b6d-f292-d3a142f233ac"
      },
      "execution_count": 28,
      "outputs": [
        {
          "output_type": "stream",
          "name": "stdout",
          "text": [
            "Vehicle Type: Four-wheeler\n",
            "Car Brand: Tesla\n",
            "Battery Capacity: 75 kWh\n"
          ]
        }
      ]
    },
    {
      "cell_type": "markdown",
      "source": [
        "**Question 4.** Demonstrate polymorphism by creating a base class Bird with a method fly(). Create two derived classes Sparrow and Penguin that override the fly() method."
      ],
      "metadata": {
        "id": "TauL7slmu2Yf"
      }
    },
    {
      "cell_type": "code",
      "source": [
        "# Base class\n",
        "class Bird:\n",
        "  def fly(self):\n",
        "    print(\"Some birds can fly.\")\n",
        "\n",
        "# Derived class 1\n",
        "class Sparrow(Bird):\n",
        "  def fly(self):\n",
        "    print(\"Sparrow flies high in the sky.\")\n",
        "\n",
        "# Derived class 2\n",
        "class Penguin(Bird):\n",
        "  def fly(self):\n",
        "    print(\"Penguins cannot fly, they swim.\")\n",
        "\n",
        "# Function demonstrating polymorphism\n",
        "def bird_flight(bird):\n",
        "  bird.fly()\n",
        "\n",
        "# Create objects\n",
        "sparrow = Sparrow()\n",
        "penguin = Penguin()\n",
        "\n",
        "# Call the same method on different objects\n",
        "bird_flight(sparrow)\n",
        "bird_flight(penguin)"
      ],
      "metadata": {
        "colab": {
          "base_uri": "https://localhost:8080/"
        },
        "id": "PDvUl51VuvPw",
        "outputId": "594c7609-0b64-4619-8852-a026c81f97f1"
      },
      "execution_count": 29,
      "outputs": [
        {
          "output_type": "stream",
          "name": "stdout",
          "text": [
            "Sparrow flies high in the sky.\n",
            "Penguins cannot fly, they swim.\n"
          ]
        }
      ]
    },
    {
      "cell_type": "markdown",
      "source": [
        "**Question 5.** Write a program to demonstrate encapsulation by creating a class BankAccount with private attributes balance and methods to deposit, withdraw, and check balance.\n",
        "\n"
      ],
      "metadata": {
        "id": "RLVTPvBCvOc4"
      }
    },
    {
      "cell_type": "code",
      "source": [
        "class BankAccount:\n",
        "  def __init__(self, initial_balance=0):\n",
        "    self.__balance = initial_balance  # Private attribute\n",
        "\n",
        "  def deposit(self, amount):\n",
        "    if amount > 0:\n",
        "      self.__balance += amount\n",
        "      print(f\"Deposited: ₹{amount}\")\n",
        "    else:\n",
        "      print(\"Deposit amount must be positive.\")\n",
        "\n",
        "  def withdraw(self, amount):\n",
        "    if amount <= self.__balance:\n",
        "      self.__balance -= amount\n",
        "      print(f\"Withdrawn: ₹{amount}\")\n",
        "    else:\n",
        "      print(\"Insufficient balance.\")\n",
        "\n",
        "  def check_balance(self):\n",
        "    print(f\"Current Balance: ₹{self.__balance}\")\n",
        "\n",
        "# Create account and perform operations\n",
        "account = BankAccount(1000)\n",
        "account.deposit(500)\n",
        "account.withdraw(300)\n",
        "account.check_balance()\n",
        "\n",
        "# Trying to access private attribute directly will fail\n",
        "# print(account.__balance)  # Uncommenting this will raise an AttributeError"
      ],
      "metadata": {
        "colab": {
          "base_uri": "https://localhost:8080/"
        },
        "id": "zuedCoemvKAo",
        "outputId": "5d6b24a8-78ac-435b-99e9-268d874f93ab"
      },
      "execution_count": 30,
      "outputs": [
        {
          "output_type": "stream",
          "name": "stdout",
          "text": [
            "Deposited: ₹500\n",
            "Withdrawn: ₹300\n",
            "Current Balance: ₹1200\n"
          ]
        }
      ]
    },
    {
      "cell_type": "markdown",
      "source": [
        "**Question 6.** Demonstrate runtime polymorphism using a method play() in a base class Instrument. Derive classes Guitar and Piano that implement their own version of play().\n",
        "\n"
      ],
      "metadata": {
        "id": "k9Y-PwXmwuLQ"
      }
    },
    {
      "cell_type": "code",
      "source": [
        "# Base class\n",
        "class Instrument:\n",
        "  def play(self):\n",
        "    print(\"The instrument is playing.\")\n",
        "\n",
        "# Derived class 1\n",
        "class Guitar(Instrument):\n",
        "  def play(self):\n",
        "    print(\"Strumming the guitar.\")\n",
        "\n",
        "# Derived class 2\n",
        "class Piano(Instrument):\n",
        "  def play(self):\n",
        "    print(\"Playing the piano keys.\")\n",
        "\n",
        "# Function that demonstrates runtime polymorphism\n",
        "def start_playing(instrument):\n",
        "  instrument.play()\n",
        "\n",
        "# Create objects of derived classes\n",
        "guitar = Guitar()\n",
        "piano = Piano()\n",
        "\n",
        "# Call the same method on different objects\n",
        "start_playing(guitar)\n",
        "start_playing(piano)"
      ],
      "metadata": {
        "colab": {
          "base_uri": "https://localhost:8080/"
        },
        "id": "aqQ2ENj6v3AY",
        "outputId": "51139764-bee5-4935-fedb-258e2b85bc3f"
      },
      "execution_count": 31,
      "outputs": [
        {
          "output_type": "stream",
          "name": "stdout",
          "text": [
            "Strumming the guitar.\n",
            "Playing the piano keys.\n"
          ]
        }
      ]
    },
    {
      "cell_type": "markdown",
      "source": [
        "**Question 7.** Create a class MathOperations with a class method add_numbers() to add two numbers and a static method subtract_numbers() to subtract two numbers.\n",
        "\n",
        "\n"
      ],
      "metadata": {
        "id": "vG4tBPqnzJev"
      }
    },
    {
      "cell_type": "code",
      "source": [
        "class MathOperations:\n",
        "  @classmethod\n",
        "  def add_numbers(cls, a, b):\n",
        "    return a + b\n",
        "\n",
        "  @staticmethod\n",
        "  def subtract_numbers(a, b):\n",
        "    return a - b\n",
        "\n",
        "# Using the class method\n",
        "sum_result = MathOperations.add_numbers(10, 5)\n",
        "print(f\"Sum: {sum_result}\")\n",
        "\n",
        "# Using the static method\n",
        "difference = MathOperations.subtract_numbers(10, 5)\n",
        "print(f\"Difference: {difference}\")"
      ],
      "metadata": {
        "colab": {
          "base_uri": "https://localhost:8080/"
        },
        "id": "n8t2yGoyy8N5",
        "outputId": "9d51a01f-e1fe-493e-de21-ae69cd641eaf"
      },
      "execution_count": 32,
      "outputs": [
        {
          "output_type": "stream",
          "name": "stdout",
          "text": [
            "Sum: 15\n",
            "Difference: 5\n"
          ]
        }
      ]
    },
    {
      "cell_type": "markdown",
      "source": [
        "**Question 8.** Implement a class Person with a class method to count the total number of persons created.\n",
        "\n",
        "\n"
      ],
      "metadata": {
        "id": "O-USsjZNzfb7"
      }
    },
    {
      "cell_type": "code",
      "source": [
        "class Person:\n",
        "  count = 0  # Class variable to track number of persons\n",
        "\n",
        "  def __init__(self, name):\n",
        "    self.name = name\n",
        "    Person.count += 1\n",
        "\n",
        "  @classmethod\n",
        "  def get_person_count(cls):\n",
        "    return cls.count\n",
        "\n",
        "# Create Person objects\n",
        "p1 = Person(\"Alice\")\n",
        "p2 = Person(\"Bob\")\n",
        "p3 = Person(\"Charlie\")\n",
        "\n",
        "# Get total number of Person instances\n",
        "print(f\"Total persons created: {Person.get_person_count()}\")"
      ],
      "metadata": {
        "colab": {
          "base_uri": "https://localhost:8080/"
        },
        "id": "kavvrQXQzYjV",
        "outputId": "89d9ccbe-1edb-4efd-b394-50488a651327"
      },
      "execution_count": 33,
      "outputs": [
        {
          "output_type": "stream",
          "name": "stdout",
          "text": [
            "Total persons created: 3\n"
          ]
        }
      ]
    },
    {
      "cell_type": "markdown",
      "source": [
        "**Question 9.** Write a class Fraction with attributes numerator and denominator. Override the str method to display the fraction as \"numerator/denominator\".\n",
        "\n"
      ],
      "metadata": {
        "id": "SfKxvJp3zvV_"
      }
    },
    {
      "cell_type": "code",
      "source": [
        "class Fraction:\n",
        "  def __init__(self, numerator, denominator):\n",
        "    self.numerator = numerator\n",
        "    self.denominator = denominator\n",
        "\n",
        "  def __str__(self):\n",
        "    return f\"{self.numerator}/{self.denominator}\"\n",
        "\n",
        "# Create and print a Fraction object\n",
        "f = Fraction(3, 4)\n",
        "print(f)"
      ],
      "metadata": {
        "colab": {
          "base_uri": "https://localhost:8080/"
        },
        "id": "7gBcfDuuzryn",
        "outputId": "6d5e749a-1a99-47f3-ef04-c2471d3680af"
      },
      "execution_count": 34,
      "outputs": [
        {
          "output_type": "stream",
          "name": "stdout",
          "text": [
            "3/4\n"
          ]
        }
      ]
    },
    {
      "cell_type": "markdown",
      "source": [
        "**Question 10.** Demonstrate operator overloading by creating a class Vector and overriding the add method to add two vectors.\n",
        "\n"
      ],
      "metadata": {
        "id": "siw9Dk_f0Mxi"
      }
    },
    {
      "cell_type": "code",
      "source": [
        "class Vector:\n",
        "  def __init__(self, x, y):\n",
        "    self.x = x\n",
        "    self.y = y\n",
        "\n",
        "  # Overload the + operator\n",
        "  def __add__(self, other):\n",
        "    return Vector(self.x + other.x, self.y + other.y)\n",
        "\n",
        "  # For readable output\n",
        "  def __str__(self):\n",
        "    return f\"({self.x}, {self.y})\"\n",
        "\n",
        "# Create two Vector objects\n",
        "v1 = Vector(2, 3)\n",
        "v2 = Vector(4, 5)\n",
        "\n",
        "# Add them using the overloaded + operator\n",
        "v3 = v1 + v2\n",
        "\n",
        "# Display the result\n",
        "print(f\"v1 + v2 = {v3}\")"
      ],
      "metadata": {
        "colab": {
          "base_uri": "https://localhost:8080/"
        },
        "id": "W9vlFtRW0DtF",
        "outputId": "baf077a0-9ba5-4660-ea41-13189d399644"
      },
      "execution_count": 35,
      "outputs": [
        {
          "output_type": "stream",
          "name": "stdout",
          "text": [
            "v1 + v2 = (6, 8)\n"
          ]
        }
      ]
    },
    {
      "cell_type": "markdown",
      "source": [
        "**Question 11.** Create a class Person with attributes name and age. Add a method greet() that prints \"Hello, my name is {name} and I am {age} years old.\"\n",
        "\n"
      ],
      "metadata": {
        "id": "t_DcFhz-1UJ2"
      }
    },
    {
      "cell_type": "code",
      "source": [
        "class Person:\n",
        "  def __init__(self, name, age):\n",
        "    self.name = name\n",
        "    self.age = age\n",
        "\n",
        "  def greet(self):\n",
        "    print(f\"Hello, my name is {self.name} and I am {self.age} years old.\")\n",
        "\n",
        "# Create a Person object and call greet\n",
        "person1 = Person(\"Alice\", 30)\n",
        "person1.greet()"
      ],
      "metadata": {
        "colab": {
          "base_uri": "https://localhost:8080/"
        },
        "id": "F_q5uAA31FJ3",
        "outputId": "306563ec-2a89-4c1f-f9f9-3d1e8af52e18"
      },
      "execution_count": 36,
      "outputs": [
        {
          "output_type": "stream",
          "name": "stdout",
          "text": [
            "Hello, my name is Alice and I am 30 years old.\n"
          ]
        }
      ]
    },
    {
      "cell_type": "markdown",
      "source": [
        "**Question 12.** Implement a class Student with attributes name and grades. Create a method average_grade() to compute the average of the grades.\n",
        "\n",
        "\n"
      ],
      "metadata": {
        "id": "BoYEWbiT17f6"
      }
    },
    {
      "cell_type": "code",
      "source": [
        "class Student:\n",
        "  def __init__(self, name, grades):\n",
        "    self.name = name\n",
        "    self.grades = grades  # should be a list of numbers\n",
        "\n",
        "  def average_grade(self):\n",
        "    if not self.grades:\n",
        "        return 0\n",
        "    return sum(self.grades) / len(self.grades)\n",
        "\n",
        "# Example usage:\n",
        "student1 = Student(\"Alice\", [85, 90, 78, 92])\n",
        "print(f\"{student1.name}'s average grade: {student1.average_grade():.2f}\")"
      ],
      "metadata": {
        "colab": {
          "base_uri": "https://localhost:8080/"
        },
        "id": "jUfTtr-V1b1q",
        "outputId": "847ba35e-1860-455c-a108-9546d473e42f"
      },
      "execution_count": 37,
      "outputs": [
        {
          "output_type": "stream",
          "name": "stdout",
          "text": [
            "Alice's average grade: 86.25\n"
          ]
        }
      ]
    },
    {
      "cell_type": "markdown",
      "source": [
        "**Question 13.**  Create a class Rectangle with methods set_dimensions() to set the dimensions and area() to calculate the area.\n",
        "\n"
      ],
      "metadata": {
        "id": "tGQya5iJ2Wum"
      }
    },
    {
      "cell_type": "code",
      "source": [
        "class Rectangle:\n",
        "  def __init__(self):\n",
        "    self.length = 0\n",
        "    self.width = 0\n",
        "\n",
        "  def set_dimensions(self, length, width):\n",
        "    self.length = length\n",
        "    self.width = width\n",
        "\n",
        "  def area(self):\n",
        "    return self.length * self.width\n",
        "\n",
        "# Example usage:\n",
        "rect = Rectangle()\n",
        "rect.set_dimensions(5, 3)\n",
        "print(f\"Area of rectangle: {rect.area()}\")"
      ],
      "metadata": {
        "colab": {
          "base_uri": "https://localhost:8080/"
        },
        "id": "HnfH67OK2NAi",
        "outputId": "17446245-64f1-4e23-b0b4-13ab9363291a"
      },
      "execution_count": 38,
      "outputs": [
        {
          "output_type": "stream",
          "name": "stdout",
          "text": [
            "Area of rectangle: 15\n"
          ]
        }
      ]
    },
    {
      "cell_type": "markdown",
      "source": [
        "**Question 14.** Create a class Employee with a method calculate_salary() that computes the salary based on hours worked and hourly rate. Create a derived class Manager that adds a bonus to the salary."
      ],
      "metadata": {
        "id": "UKuLqray2_0y"
      }
    },
    {
      "cell_type": "code",
      "source": [
        "class Employee:\n",
        "  def __init__(self, name, hours_worked, hourly_rate):\n",
        "    self.name = name\n",
        "    self.hours_worked = hours_worked\n",
        "    self.hourly_rate = hourly_rate\n",
        "\n",
        "  def calculate_salary(self):\n",
        "    return self.hours_worked * self.hourly_rate\n",
        "\n",
        "class Manager(Employee):\n",
        "  def __init__(self, name, hours_worked, hourly_rate, bonus):\n",
        "    super().__init__(name, hours_worked, hourly_rate)\n",
        "    self.bonus = bonus\n",
        "\n",
        "  def calculate_salary(self):\n",
        "    base_salary = super().calculate_salary()\n",
        "    return base_salary + self.bonus\n",
        "\n",
        "# Example usage:\n",
        "emp = Employee(\"John\", 40, 20)\n",
        "print(f\"{emp.name}'s salary: ${emp.calculate_salary()}\")\n",
        "\n",
        "mgr = Manager(\"Alice\", 40, 30, 500)\n",
        "print(f\"{mgr.name}'s salary with bonus: ${mgr.calculate_salary()}\")"
      ],
      "metadata": {
        "colab": {
          "base_uri": "https://localhost:8080/"
        },
        "id": "1d-uDTK12z6S",
        "outputId": "910a97b0-1a01-42d7-ec92-53337e0f3683"
      },
      "execution_count": 39,
      "outputs": [
        {
          "output_type": "stream",
          "name": "stdout",
          "text": [
            "John's salary: $800\n",
            "Alice's salary with bonus: $1700\n"
          ]
        }
      ]
    },
    {
      "cell_type": "markdown",
      "source": [
        "**Question 15.** Create a class Product with attributes name, price, and quantity. Implement a method total_price() that calculates the total price of the product.\n",
        "\n",
        "\n"
      ],
      "metadata": {
        "id": "EFwFoD-C3pFu"
      }
    },
    {
      "cell_type": "code",
      "source": [
        "class Product:\n",
        "  def __init__(self, name, price, quantity):\n",
        "    self.name = name\n",
        "    self.price = price  # price per unit\n",
        "    self.quantity = quantity  # number of units\n",
        "\n",
        "  def total_price(self):\n",
        "    return self.price * self.quantity\n",
        "\n",
        "# Example usage:\n",
        "product = Product(\"Laptop\", 1000, 3)\n",
        "print(f\"Total price for {product.quantity} {product.name}(s): ${product.total_price()}\")"
      ],
      "metadata": {
        "colab": {
          "base_uri": "https://localhost:8080/"
        },
        "id": "G-n8KrHT3zgS",
        "outputId": "d09692f4-ea44-4ff2-9dbf-b056be89bb15"
      },
      "execution_count": 40,
      "outputs": [
        {
          "output_type": "stream",
          "name": "stdout",
          "text": [
            "Total price for 3 Laptop(s): $3000\n"
          ]
        }
      ]
    },
    {
      "cell_type": "markdown",
      "source": [
        "**Question 16.** Create a class Animal with an abstract method sound(). Create two derived classes Cow and Sheep that implement the sound() method.\n",
        "\n",
        "\n"
      ],
      "metadata": {
        "id": "c2hOzK-p8onI"
      }
    },
    {
      "cell_type": "code",
      "source": [
        "from abc import ABC, abstractmethod\n",
        "\n",
        "class Animal(ABC):\n",
        "  @abstractmethod\n",
        "  def sound(self):\n",
        "    pass\n",
        "\n",
        "class Cow(Animal):\n",
        "  def sound(self):\n",
        "    return \"Moo\"\n",
        "\n",
        "class Sheep(Animal):\n",
        "  def sound(self):\n",
        "    return \"Baa\"\n",
        "\n",
        "# Example usage:\n",
        "cow = Cow()\n",
        "sheep = Sheep()\n",
        "print(f\"Cow says: {cow.sound()}\")\n",
        "print(f\"Sheep says: {sheep.sound()}\")"
      ],
      "metadata": {
        "colab": {
          "base_uri": "https://localhost:8080/"
        },
        "id": "kMW6oyI634Kf",
        "outputId": "2f4e935b-6a46-4efa-88a5-15a929b17c7c"
      },
      "execution_count": 41,
      "outputs": [
        {
          "output_type": "stream",
          "name": "stdout",
          "text": [
            "Cow says: Moo\n",
            "Sheep says: Baa\n"
          ]
        }
      ]
    },
    {
      "cell_type": "markdown",
      "source": [
        "**Question 17.** Create a class Book with attributes title, author, and year_published. Add a method get_book_info() that returns a formatted string with the book's details.\n",
        "\n",
        "\n"
      ],
      "metadata": {
        "id": "WEcQQqVu8_0i"
      }
    },
    {
      "cell_type": "code",
      "source": [
        "class Book:\n",
        "  def __init__(self, title, author, year_published):\n",
        "    self.title = title\n",
        "    self.author = author\n",
        "    self.year_published = year_published\n",
        "\n",
        "  def get_book_info(self):\n",
        "    return f\"'{self.title}' by {self.author}, published in {self.year_published}\"\n",
        "\n",
        "# Example usage:\n",
        "book = Book(\"1984\", \"George Orwell\", 1949)\n",
        "print(book.get_book_info())"
      ],
      "metadata": {
        "colab": {
          "base_uri": "https://localhost:8080/"
        },
        "id": "nfZfJJ-e85Go",
        "outputId": "cd7577a4-f24e-43eb-8f43-d25f30ccc6a0"
      },
      "execution_count": 42,
      "outputs": [
        {
          "output_type": "stream",
          "name": "stdout",
          "text": [
            "'1984' by George Orwell, published in 1949\n"
          ]
        }
      ]
    },
    {
      "cell_type": "markdown",
      "source": [
        "**Question 18.** Create a class House with attributes address and price. Create a derived class Mansion that adds an attribute number_of_rooms.\n"
      ],
      "metadata": {
        "id": "DwElxfoXAVaC"
      }
    },
    {
      "cell_type": "code",
      "source": [
        "class House:\n",
        "  def __init__(self, address, price):\n",
        "    self.address = address\n",
        "    self.price = price\n",
        "\n",
        "  def get_info(self):\n",
        "    return f\"House at {self.address}, priced at ${self.price}\"\n",
        "\n",
        "class Mansion(House):\n",
        "  def __init__(self, address, price, number_of_rooms):\n",
        "    super().__init__(address, price)\n",
        "    self.number_of_rooms = number_of_rooms\n",
        "\n",
        "  def get_info(self):\n",
        "    return f\"Mansion at {self.address}, priced at ${self.price}, with {self.number_of_rooms} rooms\"\n",
        "\n",
        "# Example usage:\n",
        "house = House(\"123 Maple Street\", 250000)\n",
        "print(house.get_info())\n",
        "\n",
        "mansion = Mansion(\"456 Oak Avenue\", 1200000, 10)\n",
        "print(mansion.get_info())"
      ],
      "metadata": {
        "colab": {
          "base_uri": "https://localhost:8080/"
        },
        "id": "_B_gyLdyAN6t",
        "outputId": "89872ed8-99d2-4a88-8bce-38c6ffec4627"
      },
      "execution_count": 43,
      "outputs": [
        {
          "output_type": "stream",
          "name": "stdout",
          "text": [
            "House at 123 Maple Street, priced at $250000\n",
            "Mansion at 456 Oak Avenue, priced at $1200000, with 10 rooms\n"
          ]
        }
      ]
    }
  ]
}